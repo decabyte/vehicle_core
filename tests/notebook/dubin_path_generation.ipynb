{
 "metadata": {
  "name": ""
 },
 "nbformat": 3,
 "nbformat_minor": 0,
 "worksheets": [
  {
   "cells": [
    {
     "cell_type": "code",
     "collapsed": false,
     "input": [
      "%matplotlib inline\n",
      "import matplotlib.pyplot as plt\n",
      "import math\n",
      "import scipy.optimize as opt\n",
      "import random\n",
      "import numpy as np\n",
      "from numpy import cos, sin"
     ],
     "language": "python",
     "metadata": {},
     "outputs": [],
     "prompt_number": 6
    },
    {
     "cell_type": "code",
     "collapsed": false,
     "input": [
      "# Parameters of the algorithm\n",
      "R = 1\n",
      "MIN_DIST = 5\n",
      "ROT_CORRECTION = -np.pi/2\n",
      "\n",
      "# Constants\n",
      "LEFT = 1\n",
      "RIGHT = -1"
     ],
     "language": "python",
     "metadata": {},
     "outputs": [],
     "prompt_number": 7
    },
    {
     "cell_type": "code",
     "collapsed": false,
     "input": [
      "def compute_displacement(alpha, beta, s, start_pose, first_dir, second_dir):\n",
      "    \"\"\"\n",
      "    Computes position after travelling on a given a CLC path. alpha is first arc, beta is second arc (both in radians),\n",
      "    s is length of the straight segment.\n",
      "    \n",
      "    Assumes X0, Y0, THETA0 initial conditions. Uses ROT_CORRECTION to convert from vehicle's orientation to \n",
      "    position on the circle.\n",
      "    \n",
      "    directions of rotation: +1 for left, -1 for right\n",
      "    \"\"\"\n",
      "    X0, Y0, THETA0 = start_pose\n",
      "    \n",
      "    # set angles' signs depending on the directions of rotations\n",
      "    alpha = alpha * first_dir\n",
      "    beta = beta * second_dir\n",
      "    \n",
      "    # first turn \n",
      "    x_1 = R * (cos(THETA0+alpha+ first_dir*ROT_CORRECTION) - cos(THETA0+ first_dir*ROT_CORRECTION))\n",
      "    y_1 = R * (sin(THETA0+alpha+ first_dir*ROT_CORRECTION) - sin(THETA0+ first_dir*ROT_CORRECTION))\n",
      "    \n",
      "    # straight segment\n",
      "    x_2 = s * cos(THETA0+alpha)\n",
      "    y_2 = s * sin(THETA0+alpha)\n",
      "    \n",
      "    # second turn\n",
      "    x_3 = R * (cos(THETA0+alpha+beta+ second_dir*ROT_CORRECTION) - cos(THETA0+alpha+ second_dir*ROT_CORRECTION))\n",
      "    y_3 = R * (sin(THETA0+alpha+beta+ second_dir*ROT_CORRECTION) - sin(THETA0+alpha+ second_dir*ROT_CORRECTION))\n",
      "    \n",
      "    # combine and add initial x, y\n",
      "    x = x_1 + x_2 + x_3 + X0\n",
      "    y = y_1 + y_2 + y_3 + Y0\n",
      "    \n",
      "    theta = wrap_pi(THETA0 + alpha + beta)\n",
      "    return x, y, theta\n",
      "\n",
      "# compute_displacement(np.pi/2, 0, 100, LEFT, RIGHT)"
     ],
     "language": "python",
     "metadata": {},
     "outputs": [],
     "prompt_number": 8
    },
    {
     "cell_type": "code",
     "collapsed": false,
     "input": [
      "def wrap_pi(angle):\n",
      "    return ((angle + np.pi) % (2*np.pi)) - np.pi\n",
      "\n",
      "def wrap_2pi(angle):\n",
      "    return angle % (2*np.pi)\n",
      "\n",
      "def nonlin_system(params, start_pose, end_pose, first_dir, second_dir):\n",
      "    alpha, beta, s = params\n",
      "    X, Y, THETA = end_pose\n",
      "    x, y, theta = compute_displacement(alpha, beta, np.abs(s), start_pose, np.sign(first_dir), np.sign(second_dir))\n",
      "    x_eq = x - X\n",
      "    y_eq = y - Y\n",
      "    theta_eq = theta - THETA\n",
      "\n",
      "    return x_eq, y_eq, theta_eq"
     ],
     "language": "python",
     "metadata": {},
     "outputs": [],
     "prompt_number": 9
    },
    {
     "cell_type": "code",
     "collapsed": false,
     "input": [
      "sol = opt.fsolve(nonlin_system, (0, 0, 0), args = ((0,0,0), (10, 0, 0), RIGHT, LEFT))\n",
      "sol[0:2] = wrap_pi(sol[0:2])\n",
      "sol[2]=abs(sol[2])"
     ],
     "language": "python",
     "metadata": {},
     "outputs": [],
     "prompt_number": 10
    },
    {
     "cell_type": "code",
     "collapsed": false,
     "input": [
      "planned_pose = compute_displacement(*sol, start_pose=(0,0,0), first_dir=-1, second_dir=-1)\n",
      "planned_pose"
     ],
     "language": "python",
     "metadata": {},
     "outputs": [
      {
       "metadata": {},
       "output_type": "pyout",
       "prompt_number": 11,
       "text": [
        "(10.000000000000002, 0.0, 0.0)"
       ]
      }
     ],
     "prompt_number": 11
    },
    {
     "cell_type": "markdown",
     "metadata": {},
     "source": [
      "Tests\n",
      "=====\n",
      "Below is a script that runs the algorithm *N* times with random initial and final position. The rotation of the turns is also randomised. As the algorithm relies on function *fsolve* finding the solution, its behaviour is not deterministic. The function below tests what fraction of the solutions produced by the algorithm gets the vehicle to the requested final position.\n",
      "\n",
      "First the algorithm finds the required legs of the trajectory (arc, line, arc), then these are inserted into a model which evaluates where vehicle ends up after following this path. The result of this modelling is compared with initially requested point.\n",
      "\n",
      "Note that this tests does not check correctness of the model.\n",
      "\n",
      "# Improving algorithms chances\n",
      "There are two steps to improve the fsolve's capability of finding the right solution. There are always two solutions, however, one of these is not viable as it requires the vehicle to move in reverse.\n",
      "1. Inside *nonlin_system* function always *abs(s)* is passed to the model instead of *s*. This forces *fsolve* to find only solutions which assume that the vehicle can move only forward. Note that after this modification *fsolve* can still output negative *s* but it always *means* positive *s*. Therefore an *abs(sol[2])* should be used. Without this modification about 50% of the solutions is not useful for the robot. After the modification only 3% of the solutions are not useful.\n",
      "2. The operation of *fsolve* can be further improved by provision of good gues of the final solution. We can offer this guess. We know that during the first turn the vehicle has to rotate roughly towards the final point, then travel roughly the distance between the points and then rotate to the final orientation. After providing these guesses the error falls to less than 0.1%\n",
      "3. The algorithm is unable to find solutions if distance between the start and endpoint is too small. I believe there is **no** solutions if distance is too small. This should be verified. Therefore, the algorithm rejects path requests when points are too close. For now value of *MIN_DIST = 5* (when *R = 1*) seems to work well. An expression for *MIN_DIST* in terms of *R* should be found. After adding this rejection the error rate drops to 0%. \n"
     ]
    },
    {
     "cell_type": "code",
     "collapsed": false,
     "input": [
      "cnt = 0.0\n",
      "N = 10000\n",
      "n_effect = N\n",
      "for i in range(N):\n",
      "    # set random destination\n",
      "    X, Y, THETA = np.random.rand(3)*100\n",
      "    THETA = wrap_pi(THETA)\n",
      "    \n",
      "    # set random start point\n",
      "    X0, Y0, THETA0 = np.random.rand(3)*100\n",
      "    THETA0 = wrap_pi(THETA0)\n",
      "    \n",
      "    # set random turn directions\n",
      "    FIRST_TURN, SECOND_TURN = np.sign(np.random.rand(2) - 0.5)\n",
      "    \n",
      "    # facing guess\n",
      "    guess_1 = FIRST_TURN*(np.arctan2(Y-Y0, X-X0) - THETA0)  # 0.0167\n",
      "\n",
      "    # final rotation guess\n",
      "    guess_2 = SECOND_TURN*(THETA - guess_1)  # 0.0116\n",
      "\n",
      "    # distance guess\n",
      "    guess_3 = np.linalg.norm((Y-Y0, X-X0))  # error rate after adding (with the previous guesses) 0.001\n",
      "    \n",
      "    # do not run if distance is to small\n",
      "    if guess_3 < MIN_DIST:\n",
      "        n_effect -= 1\n",
      "        continue\n",
      "    \n",
      "    # find solution\n",
      "    sol = opt.fsolve(nonlin_system, (guess_1, guess_2, guess_3), args=((X0,Y0,THETA0), (X,Y,THETA), FIRST_TURN, SECOND_TURN))\n",
      "    sol[0:2] = wrap_2pi(sol[0:2])\n",
      "    sol[2]=abs(sol[2])\n",
      "    \n",
      "    planned_pose = compute_displacement(*sol, start_pose=(X0,Y0,THETA0), first_dir=FIRST_TURN, second_dir=SECOND_TURN)\n",
      "    if not np.allclose(planned_pose, (X, Y, THETA)):\n",
      "        cnt += 1\n",
      "        print \"planned: \", planned_pose, \" requested: \", (X, Y, THETA), \" solution: \", sol\n",
      "print \"Percentage of solutions not found: \", 100 * cnt/n_effect, \" out of: \", n_effect"
     ],
     "language": "python",
     "metadata": {},
     "outputs": [
      {
       "output_type": "stream",
       "stream": "stdout",
       "text": [
        "Percentage of solutions not found:  0.0  out of:  9931\n"
       ]
      }
     ],
     "prompt_number": 12
    },
    {
     "cell_type": "code",
     "collapsed": false,
     "input": [
      "def find_clc_path(start_pose, end_pose, first_turn, second_turn):\n",
      "    \"\"\"\n",
      "    Distance between points must be smaller than MIN_DIST\n",
      "    \n",
      "    \"\"\"\n",
      "    X0, Y0, THETA0 = start_pose\n",
      "    X, Y, THETA = end_pose\n",
      "        \n",
      "    # facing guess\n",
      "    guess_1 = first_turn*(np.arctan2(Y-Y0, X-X0) - THETA0)\n",
      "    # final rotation guess\n",
      "    guess_2 = second_turn*(THETA - guess_1)\n",
      "    # distance guess\n",
      "    guess_3 = np.linalg.norm((Y-Y0, X-X0))\n",
      "    if guess_3 < MIN_DIST:\n",
      "        raise ValueError(\"Distance too small to find clc path!\")\n",
      "        \n",
      "    sol = opt.fsolve(nonlin_system, (guess_1, guess_2, guess_3), args=(start_pose, end_pose, first_turn, second_turn))\n",
      "    sol[0:2] = wrap_2pi(sol[0:2])\n",
      "    sol[2]=abs(sol[2])\n",
      "    \n",
      "    planned_pose = compute_displacement(*sol, start_pose=start_pose, first_dir=first_turn, second_dir=second_turn)\n",
      "    if not np.allclose(planned_pose, (X, Y, THETA)):\n",
      "        raise ValueError(\"Planing failed! planned pose: %s requested pose: %s\", planned_pose, (X, Y, THETA))\n",
      "\n",
      "     \n",
      "    path = { \n",
      "        'solution': sol,\n",
      "        'path_length': R * (sol[0] + sol[1]) + sol[2],\n",
      "        'first_circle': {\n",
      "            'center': (X0 - R*cos(THETA0 + first_turn*ROT_CORRECTION), Y0 - R*sin(THETA0 + first_turn*ROT_CORRECTION)),\n",
      "            'start_angle': THETA0 + first_turn*ROT_CORRECTION,\n",
      "            'direction': first_turn,\n",
      "            'angle': sol[0],  # how much to turn in a given direction \n",
      "            },\n",
      "        'second_circle': {\n",
      "            'center': (X - R*cos(THETA0+first_turn*sol[0]+second_turn*sol[1]+ second_turn*ROT_CORRECTION), Y - R*sin(THETA0+first_turn*sol[0]+second_turn*sol[1]+ second_turn*ROT_CORRECTION)),\n",
      "            'start_angle': THETA0 + sol[0] + second_turn*ROT_CORRECTION,\n",
      "            'direction': second_turn,\n",
      "            'angle': sol[1],  # how much to turn in a given direction \n",
      "            },\n",
      "        'straight_length': sol[2]            \n",
      "    }\n",
      "    return path"
     ],
     "language": "python",
     "metadata": {},
     "outputs": [],
     "prompt_number": 23
    },
    {
     "cell_type": "code",
     "collapsed": false,
     "input": [
      "print find_clc_path((10,0,0), (-10, 0, 0), LEFT, LEFT)\n",
      " "
     ],
     "language": "python",
     "metadata": {},
     "outputs": [
      {
       "output_type": "stream",
       "stream": "stdout",
       "text": [
        "{'first_circle': {'direction': 1, 'angle': 3.1415926535897931, 'center': (10.0, 1.0), 'start_angle': -1.5707963267948966}, 'second_circle': {'direction': 1, 'angle': 3.1415926535897931, 'center': (-10.0, 1.0), 'start_angle': 1.5707963267948966}, 'solution': array([  3.14159265,   3.14159265,  20.        ]), 'straight_length': 20.0, 'path_length': 26.283185307179586}\n"
       ]
      }
     ],
     "prompt_number": 24
    },
    {
     "cell_type": "code",
     "collapsed": false,
     "input": [
      "def find_all_clc_paths(start_point, end_point):\n",
      "    paths = [{} for i in range(4)]\n",
      "    for i, first_dir in enumerate([LEFT, RIGHT]):\n",
      "        for j, second_dir in enumerate([LEFT, RIGHT]):\n",
      "            paths[i+2*j] = find_clc_path(start_point, end_point, first_dir, second_dir)\n",
      "    return paths\n",
      "            "
     ],
     "language": "python",
     "metadata": {},
     "outputs": [],
     "prompt_number": 25
    },
    {
     "cell_type": "code",
     "collapsed": false,
     "input": [
      "p = find_all_clc_paths((10,0,0), (-10, 0, 0))\n",
      "min(p['path_length'])"
     ],
     "language": "python",
     "metadata": {},
     "outputs": [
      {
       "ename": "TypeError",
       "evalue": "list indices must be integers, not str",
       "output_type": "pyerr",
       "traceback": [
        "\u001b[0;31m---------------------------------------------------------------------------\u001b[0m\n\u001b[0;31mTypeError\u001b[0m                                 Traceback (most recent call last)",
        "\u001b[0;32m<ipython-input-28-769455750709>\u001b[0m in \u001b[0;36m<module>\u001b[0;34m()\u001b[0m\n\u001b[1;32m      1\u001b[0m \u001b[0mp\u001b[0m \u001b[0;34m=\u001b[0m \u001b[0mfind_all_clc_paths\u001b[0m\u001b[0;34m(\u001b[0m\u001b[0;34m(\u001b[0m\u001b[0;36m10\u001b[0m\u001b[0;34m,\u001b[0m\u001b[0;36m0\u001b[0m\u001b[0;34m,\u001b[0m\u001b[0;36m0\u001b[0m\u001b[0;34m)\u001b[0m\u001b[0;34m,\u001b[0m \u001b[0;34m(\u001b[0m\u001b[0;34m-\u001b[0m\u001b[0;36m10\u001b[0m\u001b[0;34m,\u001b[0m \u001b[0;36m0\u001b[0m\u001b[0;34m,\u001b[0m \u001b[0;36m0\u001b[0m\u001b[0;34m)\u001b[0m\u001b[0;34m)\u001b[0m\u001b[0;34m\u001b[0m\u001b[0m\n\u001b[0;32m----> 2\u001b[0;31m \u001b[0mmin\u001b[0m\u001b[0;34m(\u001b[0m\u001b[0mp\u001b[0m\u001b[0;34m[\u001b[0m\u001b[0;34m'path_length'\u001b[0m\u001b[0;34m]\u001b[0m\u001b[0;34m)\u001b[0m\u001b[0;34m\u001b[0m\u001b[0m\n\u001b[0m",
        "\u001b[0;31mTypeError\u001b[0m: list indices must be integers, not str"
       ]
      }
     ],
     "prompt_number": 28
    },
    {
     "cell_type": "code",
     "collapsed": false,
     "input": [
      "def find_best_clc_path(start_point, end_point):\n",
      "    paths = find_all_clc_paths(start_point, end_point)\n",
      "    for i, path in enumerate(paths):\n",
      "        "
     ],
     "language": "python",
     "metadata": {},
     "outputs": [
      {
       "metadata": {},
       "output_type": "pyout",
       "prompt_number": 27,
       "text": [
        "[{'first_circle': {'angle': 3.1415926535897931,\n",
        "   'center': (10.0, 1.0),\n",
        "   'direction': 1,\n",
        "   'start_angle': -1.5707963267948966},\n",
        "  'path_length': 26.283185307179586,\n",
        "  'second_circle': {'angle': 3.1415926535897931,\n",
        "   'center': (-10.0, 1.0),\n",
        "   'direction': 1,\n",
        "   'start_angle': 1.5707963267948966},\n",
        "  'solution': array([  3.14159265,   3.14159265,  20.        ]),\n",
        "  'straight_length': 20.0},\n",
        " {'first_circle': {'angle': 3.3409299585721235,\n",
        "   'center': (10.0, -1.0),\n",
        "   'direction': -1,\n",
        "   'start_angle': 1.5707963267948966},\n",
        "  'path_length': 26.681859917144759,\n",
        "  'second_circle': {'angle': 3.3409299585721239,\n",
        "   'center': (-10.0, 1.0),\n",
        "   'direction': 1,\n",
        "   'start_angle': 1.7701336317772269},\n",
        "  'solution': array([  3.34092996,   3.34092996,  20.        ]),\n",
        "  'straight_length': 20.000000000000512},\n",
        " {'first_circle': {'angle': 3.3409299585721239,\n",
        "   'center': (10.0, 1.0),\n",
        "   'direction': 1,\n",
        "   'start_angle': -1.5707963267948966},\n",
        "  'path_length': 26.681859917144759,\n",
        "  'second_circle': {'angle': 3.3409299585721239,\n",
        "   'center': (-10.0, -1.0),\n",
        "   'direction': -1,\n",
        "   'start_angle': 4.9117262853670205},\n",
        "  'solution': array([  3.34092996,   3.34092996,  20.        ]),\n",
        "  'straight_length': 20.000000000000512},\n",
        " {'first_circle': {'angle': 3.1415926535897931,\n",
        "   'center': (10.0, -1.0),\n",
        "   'direction': -1,\n",
        "   'start_angle': 1.5707963267948966},\n",
        "  'path_length': 26.283185307179586,\n",
        "  'second_circle': {'angle': 3.1415926535897931,\n",
        "   'center': (-10.0, -1.0),\n",
        "   'direction': -1,\n",
        "   'start_angle': 4.7123889803846897},\n",
        "  'solution': array([  3.14159265,   3.14159265,  20.        ]),\n",
        "  'straight_length': 20.0}]"
       ]
      }
     ],
     "prompt_number": 27
    },
    {
     "cell_type": "code",
     "collapsed": false,
     "input": [],
     "language": "python",
     "metadata": {},
     "outputs": []
    }
   ],
   "metadata": {}
  }
 ]
}