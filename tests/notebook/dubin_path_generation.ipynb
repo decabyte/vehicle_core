{
 "metadata": {
  "name": ""
 },
 "nbformat": 3,
 "nbformat_minor": 0,
 "worksheets": [
  {
   "cells": [
    {
     "cell_type": "code",
     "collapsed": false,
     "input": [
      "%matplotlib inline\n",
      "import matplotlib.pyplot as plt\n",
      "import math\n",
      "import scipy.optimize as opt\n",
      "import random\n",
      "import numpy as np\n",
      "from numpy import cos, sin"
     ],
     "language": "python",
     "metadata": {},
     "outputs": [],
     "prompt_number": 1
    },
    {
     "cell_type": "code",
     "collapsed": false,
     "input": [
      "# Parameters of the algorithm\n",
      "R = 1\n",
      "MIN_DIST = 5\n",
      "ROT_CORRECTION = -np.pi/2\n",
      "\n",
      "# Constants\n",
      "LEFT = 1\n",
      "RIGHT = -1"
     ],
     "language": "python",
     "metadata": {},
     "outputs": [],
     "prompt_number": 2
    },
    {
     "cell_type": "code",
     "collapsed": false,
     "input": [
      "def compute_displacement(alpha, beta, s, start_pose, first_dir, second_dir):\n",
      "    \"\"\"\n",
      "    Computes position after travelling on a given a CLC path. alpha is first arc, beta is second arc (both in radians),\n",
      "    s is length of the straight segment.\n",
      "    \n",
      "    Assumes X0, Y0, THETA0 initial conditions. Uses ROT_CORRECTION to convert from vehicle's orientation to \n",
      "    position on the circle.\n",
      "    \n",
      "    directions of rotation: +1 for left, -1 for right\n",
      "    \"\"\"\n",
      "    X0, Y0, THETA0 = start_pose\n",
      "    \n",
      "    # set angles' signs depending on the directions of rotations\n",
      "    alpha = alpha * first_dir\n",
      "    beta = beta * second_dir\n",
      "    \n",
      "    # first turn \n",
      "    x_1 = R * (cos(THETA0+alpha+ first_dir*ROT_CORRECTION) - cos(THETA0+ first_dir*ROT_CORRECTION))\n",
      "    y_1 = R * (sin(THETA0+alpha+ first_dir*ROT_CORRECTION) - sin(THETA0+ first_dir*ROT_CORRECTION))\n",
      "    \n",
      "    # straight segment\n",
      "    x_2 = s * cos(THETA0+alpha)\n",
      "    y_2 = s * sin(THETA0+alpha)\n",
      "    \n",
      "    # second turn\n",
      "    x_3 = R * (cos(THETA0+alpha+beta+ second_dir*ROT_CORRECTION) - cos(THETA0+alpha+ second_dir*ROT_CORRECTION))\n",
      "    y_3 = R * (sin(THETA0+alpha+beta+ second_dir*ROT_CORRECTION) - sin(THETA0+alpha+ second_dir*ROT_CORRECTION))\n",
      "    \n",
      "    # combine and add initial x, y\n",
      "    x = x_1 + x_2 + x_3 + X0\n",
      "    y = y_1 + y_2 + y_3 + Y0\n",
      "    \n",
      "    theta = wrap_pi(THETA0 + alpha + beta)\n",
      "    return x, y, theta\n",
      "\n",
      "# compute_displacement(np.pi/2, 0, 100, LEFT, RIGHT)"
     ],
     "language": "python",
     "metadata": {},
     "outputs": [],
     "prompt_number": 3
    },
    {
     "cell_type": "code",
     "collapsed": false,
     "input": [
      "def wrap_pi(angle):\n",
      "    return ((angle + np.pi) % (2*np.pi)) - np.pi\n",
      "\n",
      "def wrap_2pi(angle):\n",
      "    return angle % (2*np.pi)\n",
      "\n",
      "def nonlin_system(params, start_pose, end_pose, first_dir, second_dir):\n",
      "    alpha, beta, s = params\n",
      "    X, Y, THETA = end_pose\n",
      "    x, y, theta = compute_displacement(alpha, beta, np.abs(s), start_pose, np.sign(first_dir), np.sign(second_dir))\n",
      "    x_eq = x - X\n",
      "    y_eq = y - Y\n",
      "    theta_eq = theta - THETA\n",
      "\n",
      "    return x_eq, y_eq, theta_eq"
     ],
     "language": "python",
     "metadata": {},
     "outputs": [],
     "prompt_number": 4
    },
    {
     "cell_type": "code",
     "collapsed": false,
     "input": [
      "sol = opt.fsolve(nonlin_system, (0, 0, 0), args = ((0,0,0), (10, 0, 0), RIGHT, LEFT))\n",
      "sol[0:2] = wrap_pi(sol[0:2])\n",
      "sol[2]=abs(sol[2])"
     ],
     "language": "python",
     "metadata": {},
     "outputs": [],
     "prompt_number": 5
    },
    {
     "cell_type": "code",
     "collapsed": false,
     "input": [
      "planned_pose = compute_displacement(*sol, start_pose=(0,0,0), first_dir=-1, second_dir=-1)\n",
      "planned_pose"
     ],
     "language": "python",
     "metadata": {},
     "outputs": [
      {
       "metadata": {},
       "output_type": "pyout",
       "prompt_number": 6,
       "text": [
        "(10.000000000000002, 0.0, 0.0)"
       ]
      }
     ],
     "prompt_number": 6
    },
    {
     "cell_type": "markdown",
     "metadata": {},
     "source": [
      "Tests\n",
      "=====\n",
      "Below is a script that runs the algorithm *N* times with random initial and final position. The rotation of the turns is also randomised. As the algorithm relies on function *fsolve* finding the solution, its behaviour is not deterministic. The function below tests what fraction of the solutions produced by the algorithm gets the vehicle to the requested final position.\n",
      "\n",
      "First the algorithm finds the required legs of the trajectory (arc, line, arc), then these are inserted into a model which evaluates where vehicle ends up after following this path. The result of this modelling is compared with initially requested point.\n",
      "\n",
      "Note that this tests does not check correctness of the model.\n",
      "\n",
      "# Improving algorithms chances\n",
      "There are two steps to improve the fsolve's capability of finding the right solution. There are always two solutions, however, one of these is not viable as it requires the vehicle to move in reverse.\n",
      "1. Inside *nonlin_system* function always *abs(s)* is passed to the model instead of *s*. This forces *fsolve* to find only solutions which assume that the vehicle can move only forward. Note that after this modification *fsolve* can still output negative *s* but it always *means* positive *s*. Therefore an *abs(sol[2])* should be used. Without this modification about 50% of the solutions is not useful for the robot. After the modification only 3% of the solutions are not useful.\n",
      "2. The operation of *fsolve* can be further improved by provision of good gues of the final solution. We can offer this guess. We know that during the first turn the vehicle has to rotate roughly towards the final point, then travel roughly the distance between the points and then rotate to the final orientation. After providing these guesses the error falls to less than 0.1%\n",
      "3. The algorithm is unable to find solutions if distance between the start and endpoint is too small. I believe there is **no** solutions if distance is too small. This should be verified. Therefore, the algorithm rejects path requests when points are too close. For now value of *MIN_DIST = 5* (when *R = 1*) seems to work well. An expression for *MIN_DIST* in terms of *R* should be found. After adding this rejection the error rate drops to 0%.\n",
      "\n",
      "# !!! Bug found\n",
      "For example for input input *start_point = (5,5,0), end_point = (5,-5,0)* solution is not found.\n"
     ]
    },
    {
     "cell_type": "code",
     "collapsed": false,
     "input": [
      "cnt = 0.0\n",
      "N = 10000\n",
      "n_effect = N\n",
      "for i in range(N):\n",
      "    # set random destination\n",
      "    X, Y, THETA = np.random.rand(3)*100\n",
      "    THETA = wrap_pi(THETA)\n",
      "    \n",
      "    # set random start point\n",
      "    X0, Y0, THETA0 = np.random.rand(3)*100\n",
      "    THETA0 = wrap_pi(THETA0)\n",
      "    \n",
      "    # set random turn directions\n",
      "    FIRST_TURN, SECOND_TURN = np.sign(np.random.rand(2) - 0.5)\n",
      "    \n",
      "    # facing guess\n",
      "    guess_1 = FIRST_TURN*(np.arctan2(Y-Y0, X-X0) - THETA0)  # 0.0167\n",
      "\n",
      "    # final rotation guess\n",
      "    guess_2 = SECOND_TURN*(THETA - guess_1)  # 0.0116\n",
      "\n",
      "    # distance guess\n",
      "    guess_3 = np.linalg.norm((Y-Y0, X-X0))  # error rate after adding (with the previous guesses) 0.001\n",
      "    \n",
      "    # do not run if distance is to small\n",
      "    if guess_3 < MIN_DIST:\n",
      "        n_effect -= 1\n",
      "        continue\n",
      "    \n",
      "    # find solution\n",
      "    sol = opt.fsolve(nonlin_system, (guess_1, guess_2, guess_3), args=((X0,Y0,THETA0), (X,Y,THETA), FIRST_TURN, SECOND_TURN))\n",
      "    sol[0:2] = wrap_2pi(sol[0:2])\n",
      "    sol[2]=abs(sol[2])\n",
      "    \n",
      "    planned_pose = compute_displacement(*sol, start_pose=(X0,Y0,THETA0), first_dir=FIRST_TURN, second_dir=SECOND_TURN)\n",
      "    if not np.allclose(planned_pose, (X, Y, THETA)):\n",
      "        cnt += 1\n",
      "        print \"planned: \", planned_pose, \" requested: \", (X, Y, THETA), \" solution: \", sol\n",
      "print \"Percentage of solutions not found: \", 100 * cnt/n_effect, \" out of: \", n_effect"
     ],
     "language": "python",
     "metadata": {},
     "outputs": [
      {
       "output_type": "stream",
       "stream": "stdout",
       "text": [
        "Percentage of solutions not found:  0.0  out of:  9920\n"
       ]
      }
     ],
     "prompt_number": 7
    },
    {
     "cell_type": "code",
     "collapsed": false,
     "input": [
      "def find_clc_path(start_pose, end_pose, first_turn, second_turn):\n",
      "    \"\"\"\n",
      "    Distance between points must be smaller than MIN_DIST\n",
      "    \n",
      "    \"\"\"\n",
      "    X0, Y0, THETA0 = start_pose\n",
      "    X, Y, THETA = end_pose\n",
      "        \n",
      "    # facing guess\n",
      "    guess_1 = first_turn*(np.arctan2(Y-Y0, X-X0) - THETA0)\n",
      "    # final rotation guess\n",
      "    guess_2 = second_turn*(THETA - guess_1)\n",
      "    # distance guess\n",
      "    guess_3 = np.linalg.norm((Y-Y0, X-X0))\n",
      "    if guess_3 < MIN_DIST:\n",
      "        raise ValueError(\"Distance too small to find clc path!\")\n",
      "        \n",
      "    sol = opt.fsolve(nonlin_system, (guess_1, guess_2, guess_3), args=(start_pose, end_pose, first_turn, second_turn))\n",
      "    sol[0:2] = wrap_2pi(sol[0:2])\n",
      "    sol[2]=abs(sol[2])\n",
      "    \n",
      "    planned_pose = compute_displacement(*sol, start_pose=start_pose, first_dir=first_turn, second_dir=second_turn)\n",
      "    if not np.allclose(planned_pose, (X, Y, THETA)):\n",
      "        raise ValueError(\"Planing failed! planned pose: %s requested pose: %s\", planned_pose, (X, Y, THETA))\n",
      "     \n",
      "    path = { \n",
      "        'solution': sol,\n",
      "        'path_length': R * (sol[0] + sol[1]) + sol[2],\n",
      "        'first_circle': {\n",
      "            'center': (X0 - R*cos(THETA0 + first_turn*ROT_CORRECTION), Y0 - R*sin(THETA0 + first_turn*ROT_CORRECTION)),\n",
      "            'start_angle': THETA0 + first_turn*ROT_CORRECTION,\n",
      "            'direction': first_turn,\n",
      "            'angle': sol[0],  # how much to turn in a given direction\n",
      "            'radius': R\n",
      "            },\n",
      "        'second_circle': {\n",
      "            'center': (X - R*cos(THETA0+first_turn*sol[0]+second_turn*sol[1]+ second_turn*ROT_CORRECTION), Y - R*sin(THETA0+first_turn*sol[0]+second_turn*sol[1]+ second_turn*ROT_CORRECTION)),\n",
      "            'start_angle': THETA0 + sol[0] + second_turn*ROT_CORRECTION,\n",
      "            'direction': second_turn,\n",
      "            'angle': sol[1],  # how much to turn in a given direction \n",
      "            'radius': R\n",
      "            },\n",
      "        'straight_length': sol[2]            \n",
      "    }\n",
      "    return path"
     ],
     "language": "python",
     "metadata": {},
     "outputs": [],
     "prompt_number": 63
    },
    {
     "cell_type": "code",
     "collapsed": false,
     "input": [
      "print find_clc_path((10,0,0), (-10, 0, 0), LEFT, LEFT)\n",
      " "
     ],
     "language": "python",
     "metadata": {},
     "outputs": [
      {
       "output_type": "stream",
       "stream": "stdout",
       "text": [
        "{'first_circle': {'direction': 1, 'angle': 3.1415926535897931, 'center': (10.0, 1.0), 'start_angle': -1.5707963267948966}, 'second_circle': {'direction': 1, 'angle': 3.1415926535897931, 'center': (-10.0, 1.0), 'start_angle': 1.5707963267948966}, 'solution': array([  3.14159265,   3.14159265,  20.        ]), 'straight_length': 20.0, 'path_length': 26.283185307179586}\n"
       ]
      }
     ],
     "prompt_number": 9
    },
    {
     "cell_type": "code",
     "collapsed": false,
     "input": [
      "def find_all_clc_paths(start_point, end_point):\n",
      "    paths = [{} for i in range(4)]\n",
      "    for i, first_dir in enumerate([LEFT, RIGHT]):\n",
      "        for j, second_dir in enumerate([LEFT, RIGHT]):\n",
      "            paths[i+2*j] = find_clc_path(start_point, end_point, first_dir, second_dir)\n",
      "    return paths\n",
      "            "
     ],
     "language": "python",
     "metadata": {},
     "outputs": [],
     "prompt_number": 10
    },
    {
     "cell_type": "code",
     "collapsed": false,
     "input": [
      "def find_shortest_clc_path(start_point, end_point):\n",
      "    paths = find_all_clc_paths(start_point, end_point)\n",
      "    lengths = [path['path_length'] for path in paths]\n",
      "    shortest = np.argmin(lengths)\n",
      "    return paths[shortest]\n",
      "        "
     ],
     "language": "python",
     "metadata": {},
     "outputs": [],
     "prompt_number": 29
    },
    {
     "cell_type": "code",
     "collapsed": false,
     "input": [
      "# from trajectory tools:\n",
      "\n",
      "def plot_trajectory(points, show_orientation=True, **kwargs):\n",
      "    \"\"\"This function produces a 2D plot of the input trajectory.\n",
      "\n",
      "    The coordinates are properly swapped in order to respect the vehicle coordinates conventions, namely NED style,\n",
      "    with navigation angles commonly used for autonomous vehicles operations.\n",
      "\n",
      "    :param points:\n",
      "    :param arrow_length:\n",
      "    :return:\n",
      "    \"\"\"\n",
      "    # styles\n",
      "    c_ar = kwargs.get('arrow_length', 1)\n",
      "    c_al = kwargs.get('alpha', 1)\n",
      "    c_ms = kwargs.get('ms', 6)\n",
      "    p_style = kwargs.get('p_style', 'or--')\n",
      "    p_label = kwargs.get('p_label', 'waypoints')\n",
      "\n",
      "    # check if we want to overlay on an existing plot or a new one\n",
      "    fig = kwargs.get('fig', None)\n",
      "    ax = kwargs.get('ax', None)\n",
      "\n",
      "    if fig is None or ax is None:\n",
      "        fig, ax = plt.subplots()\n",
      "\n",
      "    # plots the waypoints\n",
      "    ax.plot(points[:,1], points[:,0], p_style, alpha=c_al, ms=c_ms, label=p_label)\n",
      "\n",
      "    if show_orientation:\n",
      "        # use polar coordinates to produce vehicle orientation arrows\n",
      "        r = c_ar * np.ones(points.shape[0])     # use a fixed value for arrow length\n",
      "        th = -points[:,5] + (np.pi / 2)         # convert from navigation angles\n",
      "\n",
      "        x, y = pol2cart(r, th)\n",
      "        #bx = ax + points[:,1]\n",
      "        #by = ay + points[:,0]\n",
      "\n",
      "        # plots the orientation arrows\n",
      "        for n in xrange(points.shape[0]):\n",
      "            ax.arrow(points[n,1], points[n,0], x[n], y[n], fc='k', ec='k', head_width=0.05, head_length=0.1)\n",
      "            #ax.plot([points[n,1], bx[n]], [points[n,0], by[n]], 'b-')\n",
      "\n",
      "    # add grid and make axis equals (prevent distortions)\n",
      "    ax.grid(True)\n",
      "    ax.axis('equal')\n",
      "    ax.hold(True)\n",
      "\n",
      "    # adjust limits\n",
      "    xl = ax.get_xlim()\n",
      "    yl = ax.get_ylim()\n",
      "    xlm = (xl[1] - xl[0]) * 0.5 * 0.1\n",
      "    ylm = (yl[1] - yl[0]) * 0.5 * 0.1\n",
      "    xl = (xl[0] - xlm, xl[1] + xlm)\n",
      "    yl = (yl[0] - ylm, yl[1] + ylm)\n",
      "    ax.set_xlim(xl)\n",
      "    ax.set_ylim(yl)\n",
      "\n",
      "    ax.set_title('Trajectory Plot')\n",
      "    ax.set_xlabel('East (m)')\n",
      "    ax.set_ylabel('North (m)')\n",
      "\n",
      "    return fig, ax\n",
      "\n",
      "def interpolate_sector(position, radius=5.0, sector=90.0, spacing=1.0, facing_center=True, **kwargs):\n",
      "    \"\"\"Generate a trajectory over a circular sector, defined by the starting position of the vehicle, the radius and an\n",
      "    angle which defines the length of the sector.\n",
      "\n",
      "    :param position:\n",
      "    :param radius: radius of the circular shape (m)\n",
      "    :param sector: circular sector (deg)\n",
      "    :param spacing: distance between consecutive waypoints (m)\n",
      "    :param facing_center: boolean flag, if enabled (default) the yaw is set to face the centre of the circular trajectory\n",
      "    :return: (n, 6) numpy array with trajectory points\n",
      "    \"\"\"\n",
      "    # find center or the arc\n",
      "    center = np.zeros(6)\n",
      "    center[0] = position[0] + radius * np.sin(-position[5] + np.pi/2)\n",
      "    center[1] = position[1] + radius * np.cos(-position[5] + np.pi/2)\n",
      "\n",
      "    steps = np.deg2rad(sector) / (spacing / radius)\n",
      "    steps = np.maximum(steps, 18)\n",
      "\n",
      "    th_start = -calculate_orientation(center, position) + np.pi/2\n",
      "    th_end = th_start + np.deg2rad(sector)\n",
      "    theta = np.linspace(th_start, th_end, steps)\n",
      "\n",
      "    x, y = pol2cart(radius, theta)\n",
      "\n",
      "    points = np.zeros((steps, 6))\n",
      "    points[:, 0] = y + center[0]\n",
      "    points[:, 1] = x + center[1]\n",
      "    points[:, 2] = position[2]\n",
      "    points[:, 5] = wrap_pi( calculate_orientation(points, center) ) #cnv.wrap_pi((-theta + np.pi/2) - np.pi)\n",
      "\n",
      "    if not facing_center:\n",
      "        points[:, 5] += (np.pi / 2)\n",
      "\n",
      "    return points\n",
      "\n",
      "def calculate_orientation(position, goal):\n",
      "    \"\"\"Returns an angle that denotes direction from position to goal in xy plane.\n",
      "\n",
      "    :param position: numpy array of shape (2+)\n",
      "    :param goal: numpy array of shape (2+)\n",
      "    :return: an angle in radians\n",
      "    \"\"\"\n",
      "\n",
      "    if position.ndim > 1:\n",
      "        return np.arctan2((goal[1] - position[:, 1]), (goal[0] - position[:, 0]))\n",
      "    else:\n",
      "        return np.arctan2((goal[1] - position[1]), (goal[0] - position[0]))\n",
      "    \n",
      "def pol2cart(r, th):\n",
      "    \"\"\"Convert from polar coordinates to cartesian coordinates (2D)\n",
      "\n",
      "    :param r:\n",
      "    :param th:\n",
      "    :return: x, y\n",
      "    \"\"\"\n",
      "    return np.cos(th) * r, np.sin(th) * r\n"
     ],
     "language": "python",
     "metadata": {},
     "outputs": [],
     "prompt_number": 50
    },
    {
     "cell_type": "code",
     "collapsed": false,
     "input": [
      "def interpolate_arc(center, radius, start_angle, angle_length, angle_direction=1, angular_spacing=np.deg2rad(29)):\n",
      "    final_angle = wrap_2pi(start_angle) + angle_direction*angle_length\n",
      "    th = np.linspace(wrap_2pi(start_angle), final_angle, (angle_length/angular_spacing)+2)\n",
      "    print th\n",
      "    print final_angle\n",
      "    x, y = pol2cart(radius, th)\n",
      "    x += center[0] \n",
      "    y += center[1]\n",
      "    \n",
      "    points = np.zeros((len(x), 6))\n",
      "    points[:,0] = x\n",
      "    points[:,1] = y\n",
      "    \n",
      "    return points\n",
      "    "
     ],
     "language": "python",
     "metadata": {},
     "outputs": [],
     "prompt_number": 140
    },
    {
     "cell_type": "code",
     "collapsed": false,
     "input": [
      "print find_shortest_clc_path((5.01,5,0),(5,-5,0))"
     ],
     "language": "python",
     "metadata": {},
     "outputs": [
      {
       "output_type": "stream",
       "stream": "stdout",
       "text": [
        "{'first_circle': {'radius': 1, 'direction': -1, 'angle': 1.8247263795682525, 'center': (5.0099999999999998, 4.0), 'start_angle': 1.5707963267948966}, 'second_circle': {'radius': 1, 'direction': 1, 'angle': 1.8247263795682525, 'center': (5.0, -4.0), 'start_angle': 0.2539300527733559}, 'solution': array([ 1.82472638,  1.82472638,  7.74597315]), 'straight_length': 7.7459731473845226, 'path_length': 11.395425906521027}\n"
       ]
      }
     ],
     "prompt_number": 150
    },
    {
     "cell_type": "code",
     "collapsed": false,
     "input": [
      "start_point = np.array([5,5,0,0,0,0])\n",
      "end_point = np.array([5.01,-5.01,0,0,0,0])\n",
      "\n",
      "def generate_dotted_clc_path(start_point, end_point):\n",
      "    points = [start_point]\n",
      "    small_start_point = start_point[0:3]\n",
      "    small_end_point = end_point[0:3]\n",
      "    path_dict = find_shortest_clc_path(small_start_point, small_end_point)\n",
      "    circle_1 = path_dict['first_circle']\n",
      "    first_circle_points = interpolate_arc(circle_1['center'], circle_1['radius'], circle_1['start_angle'], circle_1['angle'], circle_1['direction']) \n",
      "    circle_2 = path_dict['second_circle']\n",
      "    second_circle_points = interpolate_arc(circle_2['center'], circle_2['radius'], circle_2['start_angle'], circle_2['angle'], circle_2['direction']) \n",
      "\n",
      "    total_points = np.concatenate((points, first_circle_points, second_circle_points), axis=0)\n",
      "    \n",
      "    return total_points\n",
      "    \n",
      "plot_trajectory(generate_dotted_clc_path(start_point, end_point), False)"
     ],
     "language": "python",
     "metadata": {},
     "outputs": [
      {
       "output_type": "stream",
       "stream": "stdout",
       "text": [
        "[ 1.57079633  1.11531992  0.65984352  0.20436712 -0.25110928]\n",
        "-0.251109283121\n",
        "[ 0.25110928  0.70658569  1.16206209  1.61753849  2.07301489]\n",
        "2.07301489304\n"
       ]
      },
      {
       "metadata": {},
       "output_type": "pyout",
       "prompt_number": 148,
       "text": [
        "(<matplotlib.figure.Figure at 0x7f6ed229f2d0>,\n",
        " <matplotlib.axes.AxesSubplot at 0x7f6ed22bda90>)"
       ]
      },
      {
       "metadata": {},
       "output_type": "display_data",
       "png": "[encoded data removed]",
       "text": [
        "<matplotlib.figure.Figure at 0x7f6ed229f2d0>"
       ]
      }
     ],
     "prompt_number": 148
    },
    {
     "cell_type": "code",
     "collapsed": false,
     "input": [
      "    "
     ],
     "language": "python",
     "metadata": {},
     "outputs": [],
     "prompt_number": 132
    },
    {
     "cell_type": "code",
     "collapsed": false,
     "input": [],
     "language": "python",
     "metadata": {},
     "outputs": []
    }
   ],
   "metadata": {}
  }
 ]
}